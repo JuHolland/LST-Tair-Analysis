{
 "cells": [
  {
   "cell_type": "markdown",
   "metadata": {},
   "source": [
    "# Load Data"
   ]
  },
  {
   "cell_type": "markdown",
   "metadata": {},
   "source": [
    "**Data**\n",
    "\n",
    " - Tair (min and max) at 28 locations, from 2000 to 2020 (CSV file)\n",
    " - LST (TDA and TNA) at 28 locations, from 2002 to 2020 (CSV file)\n",
    " - NDVI at 28 locations, from 2000 to 2020 (CSV file)"
   ]
  },
  {
   "cell_type": "code",
   "execution_count": 1,
   "metadata": {
    "jupyter": {
     "source_hidden": true
    }
   },
   "outputs": [],
   "source": [
    "import array\n",
    "from datetime import date, timedelta\n",
    "import datetime\n",
    "import re\n",
    "\n",
    "import ipywidgets as widgets\n",
    "import matplotlib.pyplot as plt\n",
    "import numpy as np\n",
    "import pandas as pd\n",
    "from progressbar import ProgressBar\n",
    "import statsmodels.api as sm\n",
    "from statsmodels.stats.outliers_influence import OLSInfluence\n",
    "from vam.whittaker import *"
   ]
  },
  {
   "cell_type": "markdown",
   "metadata": {},
   "source": [
    "Functions"
   ]
  },
  {
   "cell_type": "code",
   "execution_count": 2,
   "metadata": {
    "jupyter": {
     "source_hidden": true
    }
   },
   "outputs": [],
   "source": [
    "def fromstring(x):\n",
    "    \n",
    "    '''Converts string to datetime object'''\n",
    "    \n",
    "    try:\n",
    "        d = datetime.datetime.strptime(x, '%d/%m/%Y').date()\n",
    "    except:\n",
    "        d = datetime.datetime.strptime(x, '%Y-%m-%d').date()\n",
    "        \n",
    "    return d\n",
    "\n",
    "def fromdekad(x):\n",
    "\n",
    "    # seeking for date pattern in the filename\n",
    "    dek = re.search(r'\\d{4}\\d{2}D\\d{1}', x).group()\n",
    "\n",
    "    # getting year, month and dekad\n",
    "    year = int(dek[0:4])\n",
    "    month = int(dek[4:6])\n",
    "    d = dek[6:8]\n",
    "    \n",
    "    if d==\"D1\":\n",
    "        greg_date = date(year,month,10)\n",
    "    elif d==\"D2\":\n",
    "        greg_date = date(year,month,20)\n",
    "    else:\n",
    "        greg_date = date(year,month,28)\n",
    "        \n",
    "    return greg_date\n",
    "\n",
    "def smoothing(ts, nodata):\n",
    "\n",
    "    wts =  np.array((ts!=nodata)*1,dtype='double')\n",
    "    \n",
    "    lag_correlation = lag1corr(np.array(ts[0:len(ts)-1]), np.array(ts[1:]), nodata)\n",
    "    \n",
    "    if lag_correlation > 0.5:\n",
    "        sr = np.arange(-2, 1.2, 0.2).round(2)\n",
    "    elif lag_correlation <= 0.5:\n",
    "        sr = np.arange(0, 3.2, 0.2).round(2)\n",
    "    else:\n",
    "        sr = np.arange(-1, 1.2, 0.2).round(2)\n",
    "\n",
    "    ts_smoothed, b = ws2doptvp(y=ts, w=wts, llas=array.array('d',sr), p=0.9)\n",
    "    \n",
    "    return(ts_smoothed)\n",
    "\n",
    "def ts_time(location, T, LST):\n",
    "    \n",
    "    df = pd.DataFrame(np.nan, index=T.index, columns = ['T', 'LST'])\n",
    "    df['T'] = T[location]\n",
    "    df['LST'] = LST[location]\n",
    "    df = df.dropna()\n",
    "\n",
    "    return df\n",
    "\n",
    "def spatial_serie(time_step, T, LST):\n",
    "    \n",
    "    df = pd.DataFrame(np.nan, index=T.columns.values, columns = ['T', 'LST'])\n",
    "    df['T'] = T.loc[time_step].values\n",
    "    df['LST'] = LST.loc[time_step].values\n",
    "\n",
    "    return df\n",
    "\n",
    "def dffits(X,Y):\n",
    "    \n",
    "    X = sm.add_constant(X)\n",
    "    model = sm.OLS(Y,X)\n",
    "    results = model.fit()\n",
    "    ols = OLSInfluence(results).dffits[0]\n",
    "    \n",
    "    return ols"
   ]
  },
  {
   "cell_type": "markdown",
   "metadata": {},
   "source": [
    "**Tair**"
   ]
  },
  {
   "cell_type": "code",
   "execution_count": 3,
   "metadata": {
    "jupyter": {
     "source_hidden": true
    }
   },
   "outputs": [],
   "source": [
    "##########\n",
    "#  Tmax  #\n",
    "##########\n",
    "Tmax = pd.read_csv(\n",
    "    'Data/tmax.csv', \n",
    "    header = 1,\n",
    "    skiprows = [2, 3])\n",
    "\n",
    "Tmax['Dekad'] = Tmax['Dekad'].apply(fromdekad)\n",
    "Tmax = Tmax.rename(columns={'Dekad': \"Date\"})\n",
    "Tmax = Tmax.set_index('Date')\n",
    "Tmax = Tmax.replace(-999.0, np.nan)\n",
    "\n",
    "##########\n",
    "#  Tmin  #\n",
    "##########\n",
    "Tmin = pd.read_csv(\n",
    "    'Data/tmin.csv', \n",
    "    header = 1,\n",
    "    skiprows = [2, 3])\n",
    "\n",
    "Tmin['Dekad'] = Tmin['Dekad'].apply(fromdekad)\n",
    "Tmin = Tmin.rename(columns={'Dekad': \"Date\"})\n",
    "Tmin = Tmin.set_index('Date')\n",
    "Tmin = Tmin.replace(-999.0, np.nan)\n",
    "\n",
    "\n",
    "#getting rid of columns with no data\n",
    "Tmin = Tmin.drop(columns=['Inhambane','Quelimane'])\n",
    "Tmax = Tmax.drop(columns=['Inhambane','Quelimane'])"
   ]
  },
  {
   "cell_type": "markdown",
   "metadata": {},
   "source": [
    "**LST**"
   ]
  },
  {
   "cell_type": "code",
   "execution_count": 4,
   "metadata": {},
   "outputs": [],
   "source": [
    "LST = pd.read_csv(\n",
    "    'Data/MYD_LST.csv', \n",
    "    index_col=0, \n",
    "    usecols = ['ID', \n",
    "               'Date', \n",
    "               'MYD11A1_006_LST_Day_1km',\n",
    "              'MYD11A1_006_LST_Night_1km'])\n",
    "\n",
    "\n",
    "#renaming the columns\n",
    "LST = LST.rename(columns={'MYD11A1_006_LST_Day_1km': \"TDA\", 'MYD11A1_006_LST_Night_1km': \"TNA\"})\n",
    "\n",
    "\n",
    "# Convert string Date to datetime.date\n",
    "LST['Date'] = LST['Date'].apply(fromstring)\n",
    "\n",
    "#Smoothing\n",
    "TDA = []\n",
    "TNA = []\n",
    "\n",
    "locs = list(set(LST.index.values))\n",
    "locs.sort()\n",
    "for l in locs:\n",
    "    for x in smoothing(LST.loc[l]['TDA'].values, 0):\n",
    "        TDA.append(x) \n",
    "    for x in smoothing(LST.loc[l]['TNA'].values, 0):\n",
    "        TNA.append(x)  \n",
    "    \n",
    "LST['TDA'] = TDA\n",
    "LST['TNA'] = TNA"
   ]
  },
  {
   "cell_type": "code",
   "execution_count": 5,
   "metadata": {
    "jupyter": {
     "source_hidden": true
    }
   },
   "outputs": [
    {
     "name": "stderr",
     "output_type": "stream",
     "text": [
      "100% |########################################################################|\n",
      "100% |########################################################################|\n"
     ]
    }
   ],
   "source": [
    "#reordering and converting to dekadal\n",
    "\n",
    "locs = list(set(LST.index.values))\n",
    "locs.sort()\n",
    "\n",
    "#########\n",
    "#  TNA  #\n",
    "#########\n",
    "TNA = pd.DataFrame(np.nan, index=Tmin.index, columns = locs)\n",
    "\n",
    "pbar = ProgressBar()\n",
    "for l in pbar(locs):\n",
    "    lst = []\n",
    "    for i,d in enumerate(Tmin.index.values):\n",
    "        if (d in LST.loc[l]['Date'].values):\n",
    "            lst.append(LST.loc[l][LST.loc[l]['Date'] == d]['TNA'].values[0])\n",
    "        else:\n",
    "            lst.append(np.nan)\n",
    "        lst = [np.nan if x==0 else x for x in lst] \n",
    "    TNA[l] = lst\n",
    "    \n",
    "    \n",
    "    \n",
    "#########\n",
    "#  TDA  #\n",
    "#########\n",
    "TDA = pd.DataFrame(np.nan, index=Tmax.index, columns = locs)\n",
    "\n",
    "pbar = ProgressBar()\n",
    "for l in pbar(locs):\n",
    "    lst = []\n",
    "    for i,d in enumerate(Tmax.index.values):\n",
    "        if (d in LST.loc[l]['Date'].values):\n",
    "            lst.append(LST.loc[l][LST.loc[l]['Date'] == d]['TDA'].values[0])\n",
    "        else:\n",
    "            lst.append(np.nan)\n",
    "        lst = [np.nan if x==0 else x for x in lst] \n",
    "    TDA[l] = lst\n",
    "\n",
    "    \n",
    "#getting ride of locations with no data\n",
    "TNA = TNA.drop(columns=['Inhambane','Quelimane'])\n",
    "TDA = TDA.drop(columns=['Inhambane','Quelimane'])"
   ]
  },
  {
   "cell_type": "markdown",
   "metadata": {},
   "source": [
    "**NDVI**"
   ]
  },
  {
   "cell_type": "code",
   "execution_count": 6,
   "metadata": {
    "jupyter": {
     "source_hidden": true
    }
   },
   "outputs": [],
   "source": [
    "###########\n",
    "#   MOD   #\n",
    "###########\n",
    "MOD_NDVI = pd.read_csv(\n",
    "    'Data/MOD_NDVI.csv', \n",
    "    index_col=0, \n",
    "    usecols = ['ID', \n",
    "               'Date', \n",
    "               'MOD13A2_006__1_km_16_days_NDVI'])\n",
    "\n",
    "\n",
    "#renaming the columns\n",
    "MOD_NDVI = MOD_NDVI.rename(columns={'MOD13A2_006__1_km_16_days_NDVI': \"ndvi\"})\n",
    "\n",
    "\n",
    "# Convert string Date to datetime.date\n",
    "MOD_NDVI['Date'] = MOD_NDVI['Date'].apply(fromstring)\n",
    "\n",
    "\n",
    "###########\n",
    "#   MYD   #\n",
    "###########\n",
    "MYD_NDVI = pd.read_csv(\n",
    "    'Data/MYD_NDVI.csv', \n",
    "    index_col=0, \n",
    "    usecols = ['ID', \n",
    "               'Date', \n",
    "               'MYD13A2_006__1_km_16_days_NDVI'])\n",
    "\n",
    "\n",
    "#renaming the columns\n",
    "MYD_NDVI = MYD_NDVI.rename(columns={'MYD13A2_006__1_km_16_days_NDVI': \"ndvi\"})\n",
    "\n",
    "\n",
    "# Convert string Date to datetime.date\n",
    "MYD_NDVI['Date'] = MYD_NDVI['Date'].apply(fromstring)\n",
    "\n",
    "\n",
    "\n",
    "###########\n",
    "#   MXD   #\n",
    "###########\n",
    "#Concatenating MOD and MYD\n",
    "\n",
    "NDVI = pd.DataFrame(columns = ['Date', 'ndvi'])\n",
    "\n",
    "locs = list(set(MOD_NDVI.index.values))\n",
    "locs.sort()\n",
    "for l in locs:\n",
    "    \n",
    "    #concatenating MOD and MYD\n",
    "    MOD = MOD_NDVI.loc[l]\n",
    "    MYD = MYD_NDVI.loc[l]\n",
    "    MXD = pd.concat([MOD,MYD])\n",
    "    \n",
    "    #sorting by date\n",
    "    MXD = MXD.set_index('Date')\n",
    "    MXD.index = pd.to_datetime(MXD.index)\n",
    "    MXD = MXD.sort_index() \n",
    "    \n",
    "    #adding location name\n",
    "    MXD['ID'] = [l] * len(MXD)\n",
    "    MXD = MXD.reset_index()\n",
    "    MXD = MXD.set_index('ID')\n",
    "    \n",
    "    #concatenating all locations\n",
    "    NDVI = pd.concat([NDVI, MXD])"
   ]
  },
  {
   "cell_type": "code",
   "execution_count": 7,
   "metadata": {
    "jupyter": {
     "source_hidden": true
    }
   },
   "outputs": [],
   "source": [
    "#Smoothing\n",
    "ndvi = []\n",
    "\n",
    "locs = list(set(NDVI.index.values))\n",
    "locs.sort()\n",
    "for l in locs:\n",
    "    for x in smoothing(NDVI.loc[l]['ndvi'].values, -3000):\n",
    "        ndvi.append(x)   \n",
    "    \n",
    "NDVI['ndvi'] = ndvi\n",
    "\n",
    "\n",
    "#removing nodata\n",
    "NDVI[NDVI['ndvi'] == -3000] = np.nan\n",
    "NDVI = NDVI.dropna()"
   ]
  },
  {
   "cell_type": "code",
   "execution_count": 8,
   "metadata": {
    "jupyter": {
     "source_hidden": true
    }
   },
   "outputs": [
    {
     "name": "stderr",
     "output_type": "stream",
     "text": [
      "100% |########################################################################|\n"
     ]
    }
   ],
   "source": [
    "#reordering and keeping dekadal\n",
    "NDVI_dek = pd.DataFrame(np.nan, index=Tmin.index, columns = locs)\n",
    "\n",
    "pbar = ProgressBar()\n",
    "for l in pbar(locs):\n",
    "    ndvi = []    \n",
    "    NDVI_loc = NDVI.loc[l]\n",
    "    NDVI_loc = NDVI_loc.set_index('Date')\n",
    "    NDVI_loc.index = pd.to_datetime(NDVI_loc.index)\n",
    "    NDVI_loc = NDVI_loc.resample('D').interpolate() \n",
    "    \n",
    "    for i,d in enumerate(Tmin.index.values):\n",
    "        if (d in NDVI_loc.index):\n",
    "            ndvi.append(NDVI_loc.loc[d].ndvi)\n",
    "        else:\n",
    "            ndvi.append(np.nan)\n",
    "            \n",
    "    NDVI_dek[l] = ndvi\n",
    "    \n",
    "NDVI = NDVI_dek \n",
    "\n",
    "#getting rid of columns with no data\n",
    "NDVI = NDVI.drop(columns=['Inhambane','Quelimane'])"
   ]
  },
  {
   "cell_type": "markdown",
   "metadata": {},
   "source": [
    "&nbsp;\n",
    "\n",
    "**Getting rid of abnormal points**\n",
    "\n",
    "There can be 2 types of influantial points: **outliers** and points with **high leverage**. \n",
    "\n",
    "If an observation has a response value that is very different from the predicted value based on a model, then that observation is called an **outlier** (unusual y values). On the other hand, if an observation has a particularly unusual combination of predictor values, then that observation is said to have **high leverage** (extreme x values).\n",
    "\n",
    "We want to detect both outliers and high leverage points. To do so we use the DFFITS parameter defined as:\n",
    "\n",
    "$DFFITS = \\frac{\\hat{y_i} - \\hat{y_{(i)}}}{\\sqrt{MSE_{(i)}h_ii}}$\n",
    "\n",
    "The numerator measures the difference in the predicted responses obtained when the $i^{th}$ data point is included and excluded from the analysis. The denominator is the estimated standard deviation of the difference in the predicted responses. Therefore, the $DFFITS$ quantifies the number of standard deviations that the fitted value changes when the $i^{th}$ data point is omitted.\n",
    "\n",
    "An observation is influential if the absolute value of its $DFFITS$ value is greater than:\n",
    "\n",
    "$2 \\sqrt{\\frac{k + 2}{n - k - 2}}$\n",
    "\n",
    "where $n$ =  number of observations and $k$ = the number of predictor terms = $1$\n",
    "\n",
    "**We remove the influential points over the temporal regression and spatial regression**."
   ]
  },
  {
   "cell_type": "code",
   "execution_count": 9,
   "metadata": {
    "jupyter": {
     "source_hidden": true
    }
   },
   "outputs": [],
   "source": [
    "TNA_clean = TNA.copy()\n",
    "TDA_clean = TDA.copy()\n",
    "Tmin_clean = Tmin.copy()\n",
    "Tmax_clean = Tmax.copy()\n",
    "\n",
    "locs = TNA.columns.values\n",
    "\n",
    "#######\n",
    "# TNA #\n",
    "#######\n",
    "\n",
    "#Across locations\n",
    "for l in locs:\n",
    "\n",
    "    #extract ts\n",
    "    df = ts_time(l, Tmin_clean, TNA_clean)\n",
    "    X = df['LST'].values.reshape(-1, 1)\n",
    "    Y = df['T'].values.reshape(-1, 1)\n",
    "    ols = dffits(X,Y)    \n",
    "\n",
    "    #get date of abnormal points\n",
    "    df['ols'] = ols\n",
    "    ols_threshold = 2*np.sqrt(3/(len(df)-3))\n",
    "    remove_dates = df[df['ols']>ols_threshold].index.values\n",
    "    \n",
    "    #remove points from both T and LST dataframes\n",
    "    for d in remove_dates:\n",
    "        TNA_clean.loc[d][l] = np.nan\n",
    "        Tmin_clean.loc[d][l] = np.nan\n",
    "\n",
    "        \n",
    "#Across time\n",
    "for d in TNA_clean.index.values:\n",
    "\n",
    "    #extract ts\n",
    "    df = spatial_serie(d, Tmin_clean, TNA_clean)\n",
    "    df = df.dropna()\n",
    "    if (len(df)>2):\n",
    "        X = df['LST'].values.reshape(-1, 1)\n",
    "        Y = df['T'].values.reshape(-1, 1)\n",
    "        ols = dffits(X,Y)    \n",
    "\n",
    "        #get date of abnormal points\n",
    "        df['ols'] = ols\n",
    "        ols_threshold = 2*np.sqrt(3/(len(df)-3))\n",
    "        remove_locs = df[df['ols']>ols_threshold].index.values\n",
    "\n",
    "        #remove points from both T and LST dataframes\n",
    "        for l in remove_locs:\n",
    "            TNA_clean.loc[d][l] = np.nan\n",
    "            Tmin_clean.loc[d][l] = np.nan\n",
    "\n",
    "#######\n",
    "# TDA #\n",
    "#######\n",
    "\n",
    "#Across locations\n",
    "for l in locs:\n",
    "    \n",
    "    #extract ts\n",
    "    df = ts_time(l, Tmax_clean, TDA_clean)\n",
    "    X = df['LST'].values.reshape(-1, 1)\n",
    "    Y = df['T'].values.reshape(-1, 1)\n",
    "    ols = dffits(X,Y)        \n",
    "    \n",
    "    #get date of abnormal points\n",
    "    df['ols'] = ols\n",
    "    ols_threshold = 2*np.sqrt(3/(len(df)-3))\n",
    "    remove_dates = df[df['ols']>ols_threshold].index.values\n",
    "    \n",
    "    #remove points from both T and LST dataframes\n",
    "    for d in remove_dates:\n",
    "        TDA_clean.loc[d][l] = np.nan\n",
    "        Tmax_clean.loc[d][l] = np.nan\n",
    "        \n",
    "        \n",
    "#Across time\n",
    "for d in TDA_clean.index.values:\n",
    "\n",
    "    #extract ts\n",
    "    df = spatial_serie(d, Tmax_clean, TDA_clean) \n",
    "    df = df.dropna()\n",
    "    if (len(df)>2):\n",
    "        X = df['LST'].values.reshape(-1, 1)\n",
    "        Y = df['T'].values.reshape(-1, 1)\n",
    "        ols = dffits(X,Y)    \n",
    "\n",
    "        #get date of abnormal points\n",
    "        df['ols'] = ols\n",
    "        ols_threshold = 2*np.sqrt(3/(len(df)-3))\n",
    "        remove_locs = df[df['ols']>ols_threshold].index.values\n",
    "\n",
    "        #remove points from both T and LST dataframes\n",
    "        for l in remove_locs:\n",
    "            TDA_clean.loc[d][l] = np.nan\n",
    "            Tmax_clean.loc[d][l] = np.nan"
   ]
  },
  {
   "cell_type": "code",
   "execution_count": 10,
   "metadata": {
    "jupyter": {
     "source_hidden": true
    }
   },
   "outputs": [
    {
     "data": {
      "application/vnd.jupyter.widget-view+json": {
       "model_id": "170efd03de5a47128717608227eece52",
       "version_major": 2,
       "version_minor": 0
      },
      "text/plain": [
       "Dropdown(description='Select loc:', index=1, options=('Angoche', 'BeiraAero', 'Changalane', 'Chimoio', 'Chokwe…"
      ]
     },
     "metadata": {},
     "output_type": "display_data"
    }
   ],
   "source": [
    "#location widget\n",
    "location_widget = widgets.Dropdown(\n",
    "    options=locs,\n",
    "    value='BeiraAero',\n",
    "    description='Select loc:')\n",
    "\n",
    "location_widget"
   ]
  },
  {
   "cell_type": "code",
   "execution_count": 11,
   "metadata": {},
   "outputs": [
    {
     "data": {
      "image/png": "[encoded data removed]",
      "text/plain": [
       "<Figure size 1440x720 with 2 Axes>"
      ]
     },
     "metadata": {
      "needs_background": "light"
     },
     "output_type": "display_data"
    }
   ],
   "source": [
    "fig, axs = plt.subplots(1,2, figsize=(20, 10))\n",
    "\n",
    "axs[0].scatter(Tmax[location_widget.value], TDA[location_widget.value], color = 'r');\n",
    "axs[0].scatter(Tmax_clean[location_widget.value], TDA_clean[location_widget.value]);\n",
    "\n",
    "axs[1].scatter(Tmin[location_widget.value], TNA[location_widget.value], color = 'r');\n",
    "axs[1].scatter(Tmin_clean[location_widget.value], TNA_clean[location_widget.value]);"
   ]
  },
  {
   "cell_type": "markdown",
   "metadata": {},
   "source": [
    "This is only the visualization of time series (no spatial series), so some points which do not seem like outliers might be red (because they are outliers in the spatial series)"
   ]
  },
  {
   "cell_type": "markdown",
   "metadata": {},
   "source": [
    "### Saving data"
   ]
  },
  {
   "cell_type": "code",
   "execution_count": 12,
   "metadata": {},
   "outputs": [],
   "source": [
    "TNA_clean.to_csv('Data/dataframes/TNA.csv')\n",
    "TDA_clean.to_csv('Data/dataframes/TDA.csv')\n",
    "\n",
    "Tmin_clean.to_csv('Data/dataframes/Tmin.csv')\n",
    "Tmax_clean.to_csv('Data/dataframes/Tmax.csv')\n",
    "\n",
    "NDVI.to_csv('Data/dataframes/NDVI.csv')"
   ]
  }
 ],
 "metadata": {
  "kernelspec": {
   "display_name": "Python 3",
   "language": "python",
   "name": "python3"
  },
  "language_info": {
   "codemirror_mode": {
    "name": "ipython",
    "version": 3
   },
   "file_extension": ".py",
   "mimetype": "text/x-python",
   "name": "python",
   "nbconvert_exporter": "python",
   "pygments_lexer": "ipython3",
   "version": "3.8.1"
  }
 },
 "nbformat": 4,
 "nbformat_minor": 4
}
